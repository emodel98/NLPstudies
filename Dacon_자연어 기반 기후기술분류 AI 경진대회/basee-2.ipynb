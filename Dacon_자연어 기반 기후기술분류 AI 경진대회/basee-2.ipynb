{
  "nbformat": 4,
  "nbformat_minor": 5,
  "metadata": {
    "colab": {
      "name": "basee.ipynb",
      "provenance": [],
      "collapsed_sections": []
    },
    "kernelspec": {
      "display_name": "Python 3",
      "language": "python",
      "name": "python3"
    },
    "language_info": {
      "codemirror_mode": {
        "name": "ipython",
        "version": 3
      },
      "file_extension": ".py",
      "mimetype": "text/x-python",
      "name": "python",
      "nbconvert_exporter": "python",
      "pygments_lexer": "ipython3",
      "version": "3.8.10"
    }
  },
  "cells": [
    {
      "cell_type": "code",
      "metadata": {
        "colab": {
          "base_uri": "https://localhost:8080/"
        },
        "id": "Xi_cfoEzh5VQ",
        "outputId": "46686671-08a4-4211-817e-514a323f2bc7"
      },
      "source": [
        "!pip install konlpy"
      ],
      "id": "Xi_cfoEzh5VQ",
      "execution_count": null,
      "outputs": [
        {
          "output_type": "stream",
          "text": [
            "Requirement already satisfied: konlpy in /usr/local/lib/python3.7/dist-packages (0.5.2)\n",
            "Requirement already satisfied: JPype1>=0.7.0 in /usr/local/lib/python3.7/dist-packages (from konlpy) (1.3.0)\n",
            "Requirement already satisfied: tweepy>=3.7.0 in /usr/local/lib/python3.7/dist-packages (from konlpy) (3.10.0)\n",
            "Requirement already satisfied: colorama in /usr/local/lib/python3.7/dist-packages (from konlpy) (0.4.4)\n",
            "Requirement already satisfied: lxml>=4.1.0 in /usr/local/lib/python3.7/dist-packages (from konlpy) (4.2.6)\n",
            "Requirement already satisfied: numpy>=1.6 in /usr/local/lib/python3.7/dist-packages (from konlpy) (1.19.5)\n",
            "Requirement already satisfied: beautifulsoup4==4.6.0 in /usr/local/lib/python3.7/dist-packages (from konlpy) (4.6.0)\n",
            "Requirement already satisfied: typing-extensions in /usr/local/lib/python3.7/dist-packages (from JPype1>=0.7.0->konlpy) (3.7.4.3)\n",
            "Requirement already satisfied: six>=1.10.0 in /usr/local/lib/python3.7/dist-packages (from tweepy>=3.7.0->konlpy) (1.15.0)\n",
            "Requirement already satisfied: requests-oauthlib>=0.7.0 in /usr/local/lib/python3.7/dist-packages (from tweepy>=3.7.0->konlpy) (1.3.0)\n",
            "Requirement already satisfied: requests[socks]>=2.11.1 in /usr/local/lib/python3.7/dist-packages (from tweepy>=3.7.0->konlpy) (2.23.0)\n",
            "Requirement already satisfied: oauthlib>=3.0.0 in /usr/local/lib/python3.7/dist-packages (from requests-oauthlib>=0.7.0->tweepy>=3.7.0->konlpy) (3.1.1)\n",
            "Requirement already satisfied: idna<3,>=2.5 in /usr/local/lib/python3.7/dist-packages (from requests[socks]>=2.11.1->tweepy>=3.7.0->konlpy) (2.10)\n",
            "Requirement already satisfied: chardet<4,>=3.0.2 in /usr/local/lib/python3.7/dist-packages (from requests[socks]>=2.11.1->tweepy>=3.7.0->konlpy) (3.0.4)\n",
            "Requirement already satisfied: urllib3!=1.25.0,!=1.25.1,<1.26,>=1.21.1 in /usr/local/lib/python3.7/dist-packages (from requests[socks]>=2.11.1->tweepy>=3.7.0->konlpy) (1.24.3)\n",
            "Requirement already satisfied: certifi>=2017.4.17 in /usr/local/lib/python3.7/dist-packages (from requests[socks]>=2.11.1->tweepy>=3.7.0->konlpy) (2021.5.30)\n",
            "Requirement already satisfied: PySocks!=1.5.7,>=1.5.6 in /usr/local/lib/python3.7/dist-packages (from requests[socks]>=2.11.1->tweepy>=3.7.0->konlpy) (1.7.1)\n"
          ],
          "name": "stdout"
        }
      ]
    },
    {
      "cell_type": "code",
      "metadata": {
        "id": "1a1c97f7"
      },
      "source": [
        "import konlpy, re, tqdm, os\n",
        "import numpy as np\n",
        "import pandas as pd\n",
        "import matplotlib.pyplot as plt\n",
        "from konlpy.tag import Okt\n",
        "\n",
        "import tensorflow as tf\n",
        "from keras.models import Sequential, load_model\n",
        "from keras.layers import Embedding, GlobalAveragePooling1D, Dense\n",
        "from tensorflow.keras.utils import to_categorical\n",
        "from keras.preprocessing.text import Tokenizer\n",
        "from keras.preprocessing.sequence import pad_sequences\n",
        "from keras.callbacks import EarlyStopping, ModelCheckpoint"
      ],
      "id": "1a1c97f7",
      "execution_count": null,
      "outputs": []
    },
    {
      "cell_type": "code",
      "metadata": {
        "colab": {
          "base_uri": "https://localhost:8080/"
        },
        "id": "k7ucx5MOr0Lx",
        "outputId": "83f97136-f802-4988-e68c-33319882b844"
      },
      "source": [
        "import pandas as pd\n",
        "import warnings; warnings.filterwarnings('ignore')\n",
        "\n",
        "\n",
        "from google.colab import drive\n",
        "drive.mount('/content/drive')\n",
        "PATH ='/content/drive/MyDrive/dacon nlp/'"
      ],
      "id": "k7ucx5MOr0Lx",
      "execution_count": null,
      "outputs": [
        {
          "output_type": "stream",
          "text": [
            "Drive already mounted at /content/drive; to attempt to forcibly remount, call drive.mount(\"/content/drive\", force_remount=True).\n"
          ],
          "name": "stdout"
        }
      ]
    },
    {
      "cell_type": "code",
      "metadata": {
        "id": "b84317ce"
      },
      "source": [
        "train=pd.read_csv(PATH +'train.csv')\n",
        "test=pd.read_csv(PATH +'test.csv')\n",
        "sample_submission=pd.read_csv(PATH +'sample_submission.csv')"
      ],
      "id": "b84317ce",
      "execution_count": null,
      "outputs": []
    },
    {
      "cell_type": "code",
      "metadata": {
        "colab": {
          "base_uri": "https://localhost:8080/"
        },
        "id": "f396cddc",
        "outputId": "3ae2b48d-353c-439a-fef9-376b2c519afd"
      },
      "source": [
        "# 결측치 확인.\n",
        "# baseline ==> 과정명 변수만을 이용하여 학습하므로, 다른 변수의 결측은 제거나 대치하지 않고 진행.\n",
        "train.isna().sum()"
      ],
      "id": "f396cddc",
      "execution_count": null,
      "outputs": [
        {
          "output_type": "execute_result",
          "data": {
            "text/plain": [
              "index           0\n",
              "제출년도            0\n",
              "사업명             0\n",
              "사업_부처명          0\n",
              "계속과제여부          0\n",
              "내역사업명           0\n",
              "과제명             0\n",
              "요약문_연구목표     3002\n",
              "요약문_연구내용     3001\n",
              "요약문_기대효과     3051\n",
              "요약문_한글키워드    3028\n",
              "요약문_영문키워드    3087\n",
              "label           0\n",
              "dtype: int64"
            ]
          },
          "metadata": {
            "tags": []
          },
          "execution_count": 13
        }
      ]
    },
    {
      "cell_type": "code",
      "metadata": {
        "id": "ppiWY5nWCni-"
      },
      "source": [
        "import random\n",
        "import pickle\n",
        "import re\n",
        "\n",
        "wordnet = {}\n",
        "with open(\"/content/drive/MyDrive/dacon nlp/wordnet.pickle\", \"rb\") as f:\n",
        "\twordnet = pickle.load(f)\n",
        "\n",
        "\n",
        "# 한글만 남기고 나머지는 삭제\n",
        "def get_only_hangul(line):\n",
        "\tparseText= re.compile('/ ^[ㄱ-ㅎㅏ-ㅣ가-힣]*$/').sub('',line)\n",
        "\n",
        "\treturn parseText\n",
        "\n",
        "\n",
        "\n",
        "########################################################################\n",
        "# Synonym replacement\n",
        "# Replace n words in the sentence with synonyms from wordnet\n",
        "########################################################################\n",
        "def synonym_replacement(words, n):\n",
        "\tnew_words = words.copy()\n",
        "\trandom_word_list = list(set([word for word in words]))\n",
        "\trandom.shuffle(random_word_list)\n",
        "\tnum_replaced = 0\n",
        "\tfor random_word in random_word_list:\n",
        "\t\tsynonyms = get_synonyms(random_word)\n",
        "\t\tif len(synonyms) >= 1:\n",
        "\t\t\tsynonym = random.choice(list(synonyms))\n",
        "\t\t\tnew_words = [synonym if word == random_word else word for word in new_words]\n",
        "\t\t\tnum_replaced += 1\n",
        "\t\tif num_replaced >= n:\n",
        "\t\t\tbreak\n",
        "\n",
        "\tif len(new_words) != 0:\n",
        "\t\tsentence = ' '.join(new_words)\n",
        "\t\tnew_words = sentence.split(\" \")\n",
        "\n",
        "\telse:\n",
        "\t\tnew_words = \"\"\n",
        "\n",
        "\treturn new_words\n",
        "\n",
        "\n",
        "def get_synonyms(word):\n",
        "\tsynomyms = []\n",
        "\n",
        "\ttry:\n",
        "\t\tfor syn in wordnet[word]:\n",
        "\t\t\tfor s in syn:\n",
        "\t\t\t\tsynomyms.append(s)\n",
        "\texcept:\n",
        "\t\tpass\n",
        "\n",
        "\treturn synomyms\n",
        "\n",
        "########################################################################\n",
        "# Random deletion\n",
        "# Randomly delete words from the sentence with probability p\n",
        "########################################################################\n",
        "def random_deletion(words, p):\n",
        "\tif len(words) == 1:\n",
        "\t\treturn words\n",
        "\n",
        "\tnew_words = []\n",
        "\tfor word in words:\n",
        "\t\tr = random.uniform(0, 1)\n",
        "\t\tif r > p:\n",
        "\t\t\tnew_words.append(word)\n",
        "\n",
        "\tif len(new_words) == 0:\n",
        "\t\trand_int = random.randint(0, len(words)-1)\n",
        "\t\treturn [words[rand_int]]\n",
        "\n",
        "\treturn new_words\n",
        "\n",
        "########################################################################\n",
        "# Random swap\n",
        "# Randomly swap two words in the sentence n times\n",
        "########################################################################\n",
        "def random_swap(words, n):\n",
        "\tnew_words = words.copy()\n",
        "\tfor _ in range(n):\n",
        "\t\tnew_words = swap_word(new_words)\n",
        "\n",
        "\treturn new_words\n",
        "\n",
        "def swap_word(new_words):\n",
        "\trandom_idx_1 = random.randint(0, len(new_words)-1)\n",
        "\trandom_idx_2 = random_idx_1\n",
        "\tcounter = 0\n",
        "\n",
        "\twhile random_idx_2 == random_idx_1:\n",
        "\t\trandom_idx_2 = random.randint(0, len(new_words)-1)\n",
        "\t\tcounter += 1\n",
        "\t\tif counter > 3:\n",
        "\t\t\treturn new_words\n",
        "\n",
        "\tnew_words[random_idx_1], new_words[random_idx_2] = new_words[random_idx_2], new_words[random_idx_1]\n",
        "\treturn new_words\n",
        "\n",
        "########################################################################\n",
        "# Random insertion\n",
        "# Randomly insert n words into the sentence\n",
        "########################################################################\n",
        "def random_insertion(words, n):\n",
        "\tnew_words = words.copy()\n",
        "\tfor _ in range(n):\n",
        "\t\tadd_word(new_words)\n",
        "\t\n",
        "\treturn new_words\n",
        "\n",
        "\n",
        "def add_word(new_words):\n",
        "\tsynonyms = []\n",
        "\tcounter = 0\n",
        "\twhile len(synonyms) < 1:\n",
        "\t\tif len(new_words) >= 1:\n",
        "\t\t\trandom_word = new_words[random.randint(0, len(new_words)-1)]\n",
        "\t\t\tsynonyms = get_synonyms(random_word)\n",
        "\t\t\tcounter += 1\n",
        "\t\telse:\n",
        "\t\t\trandom_word = \"\"\n",
        "\n",
        "\t\tif counter >= 10:\n",
        "\t\t\treturn\n",
        "\t\t\n",
        "\trandom_synonym = synonyms[0]\n",
        "\trandom_idx = random.randint(0, len(new_words)-1)\n",
        "\tnew_words.insert(random_idx, random_synonym)\n",
        "\n",
        "\n",
        "\n",
        "def EDA(sentence, alpha_sr=0.1, alpha_ri=0.1, alpha_rs=0.1, p_rd=0.1, num_aug=3):\n",
        "\tsentence = get_only_hangul(sentence)\n",
        "\twords = sentence.split(' ')\n",
        "\twords = [word for word in words if word is not \"\"]\n",
        "\tnum_words = len(words)\n",
        "\n",
        "\taugmented_sentences = []\n",
        "\tnum_new_per_technique = int(num_aug/4) + 1\n",
        "\n",
        "\tn_sr = max(1, int(alpha_sr*num_words))\n",
        "\tn_ri = max(1, int(alpha_ri*num_words))\n",
        "\tn_rs = max(1, int(alpha_rs*num_words))\n",
        "\n",
        "\t# sr\n",
        "\tfor _ in range(num_new_per_technique):\n",
        "\t\ta_words = synonym_replacement(words, n_sr)\n",
        "\t\taugmented_sentences.append(' '.join(a_words))\n",
        "\n",
        "\t# ri\n",
        "\tfor _ in range(num_new_per_technique):\n",
        "\t\ta_words = random_insertion(words, n_ri)\n",
        "\t\taugmented_sentences.append(' '.join(a_words))\n",
        "\n",
        "\t# rs\n",
        "\tfor _ in range(num_new_per_technique):\n",
        "\t\ta_words = random_swap(words, n_rs)\n",
        "\t\taugmented_sentences.append(\" \".join(a_words))\n",
        "\n",
        "\t# rd\n",
        "\tfor _ in range(num_new_per_technique):\n",
        "\t\ta_words = random_deletion(words, p_rd)\n",
        "\t\taugmented_sentences.append(\" \".join(a_words))\n",
        "\n",
        "\taugmented_sentences = [get_only_hangul(sentence) for sentence in augmented_sentences]\n",
        "\trandom.shuffle(augmented_sentences)\n",
        "\n",
        "\tif num_aug >= 1:\n",
        "\t\taugmented_sentences = augmented_sentences[:num_aug]\n",
        "\telse:\n",
        "\t\tkeep_prob = num_aug / len(augmented_sentences)\n",
        "\t\taugmented_sentences = [s for s in augmented_sentences if random.uniform(0, 1) < keep_prob]\n",
        "\n",
        "\taugmented_sentences.append(sentence)\n",
        "\n",
        "\treturn augmented_sentences"
      ],
      "id": "ppiWY5nWCni-",
      "execution_count": null,
      "outputs": []
    },
    {
      "cell_type": "code",
      "metadata": {
        "colab": {
          "base_uri": "https://localhost:8080/"
        },
        "id": "EsU2R8c8CWtM",
        "outputId": "1c3d5655-64be-4cf1-bba2-1967e8993507"
      },
      "source": [
        "train[train[\"label\"] != 0].shape"
      ],
      "id": "EsU2R8c8CWtM",
      "execution_count": null,
      "outputs": [
        {
          "output_type": "execute_result",
          "data": {
            "text/plain": [
              "(31733, 13)"
            ]
          },
          "metadata": {
            "tags": []
          },
          "execution_count": 15
        }
      ]
    },
    {
      "cell_type": "code",
      "metadata": {
        "colab": {
          "base_uri": "https://localhost:8080/"
        },
        "id": "xqIyQaAhCWat",
        "outputId": "f23708e0-b5a5-4060-b220-7d8e22f40c3b"
      },
      "source": [
        "train[train[\"label\"] == 0].shape"
      ],
      "id": "xqIyQaAhCWat",
      "execution_count": null,
      "outputs": [
        {
          "output_type": "execute_result",
          "data": {
            "text/plain": [
              "(142571, 13)"
            ]
          },
          "metadata": {
            "tags": []
          },
          "execution_count": 16
        }
      ]
    },
    {
      "cell_type": "code",
      "metadata": {
        "id": "DwqomxanCoHV"
      },
      "source": [
        "# label 값이 0 인 train 데이터\n",
        "train_0 = train[train[\"label\"] == 0]\n",
        "# label 값이 0이 아닌 train 데이터\n",
        "train_1 = train[train[\"label\"] != 0]"
      ],
      "id": "DwqomxanCoHV",
      "execution_count": null,
      "outputs": []
    },
    {
      "cell_type": "code",
      "metadata": {
        "id": "rMgDr8QNJ9Hn"
      },
      "source": [
        "train_1_snt = train_1['사업명'] + ' ' + train_1['사업_부처명']"
      ],
      "id": "rMgDr8QNJ9Hn",
      "execution_count": null,
      "outputs": []
    },
    {
      "cell_type": "code",
      "metadata": {
        "id": "-wEokUinMUND"
      },
      "source": [
        "train_0_snt = train_0['사업명'] + ' ' + train_0['사업_부처명']\n",
        "train_0_label = train_0[\"label\"]"
      ],
      "id": "-wEokUinMUND",
      "execution_count": null,
      "outputs": []
    },
    {
      "cell_type": "code",
      "metadata": {
        "colab": {
          "base_uri": "https://localhost:8080/"
        },
        "id": "hrmCKeYRGMDR",
        "outputId": "ed5e454a-fb17-40be-9206-74e7548cdadb"
      },
      "source": [
        "snt = []\n",
        "label = []\n",
        "for i in train_1_snt:\n",
        "  snt += EDA(i)\n",
        "\n",
        "for j in train_1[\"label\"]:\n",
        "  for _ in range(4):\n",
        "    label.append(j)\n",
        "\n",
        "print(len(snt))\n",
        "print()\n",
        "print(len(label))"
      ],
      "id": "hrmCKeYRGMDR",
      "execution_count": null,
      "outputs": [
        {
          "output_type": "stream",
          "text": [
            "126932\n",
            "\n",
            "126932\n"
          ],
          "name": "stdout"
        }
      ]
    },
    {
      "cell_type": "code",
      "metadata": {
        "id": "iTvE58sLNF8J"
      },
      "source": [
        "train_1_snt_eda = pd.Series(snt)\n",
        "train_1_label_eda = pd.Series(label)"
      ],
      "id": "iTvE58sLNF8J",
      "execution_count": null,
      "outputs": []
    },
    {
      "cell_type": "code",
      "metadata": {
        "colab": {
          "base_uri": "https://localhost:8080/"
        },
        "id": "c3a2246d",
        "outputId": "dce63a1f-75f6-478c-ced7-31f1ddbcae93"
      },
      "source": [
        "# baseline ==> Feature : 사업명 + 과제명 이용토록 한다.\n",
        "# x_train = train['사업명'] + ' ' + train['사업_부처명']\n",
        "# y_train = train['label']\n",
        "x_train = train['요약문_연구목표']\n",
        "y_train = train['label']\n",
        "x_test  = test['요약문_연구목표']\n",
        "\n",
        "# from sklearn.model_selection import train_test_split\n",
        "# df_train, df_test=train_test_split(train, test_size=0.3, random_state=4321)\n",
        "\n",
        "# Shape of dataset.\n",
        "print(f'x_train shape: { x_train.shape }')\n",
        "print(f'y_train shape: { y_train.shape }')\n",
        "print(f'x_test shape:  { x_test.shape }' )"
      ],
      "id": "c3a2246d",
      "execution_count": null,
      "outputs": [
        {
          "output_type": "stream",
          "text": [
            "x_train shape: (174304,)\n",
            "y_train shape: (174304,)\n",
            "x_test shape:  (43576,)\n"
          ],
          "name": "stdout"
        }
      ]
    },
    {
      "cell_type": "code",
      "metadata": {
        "colab": {
          "base_uri": "https://localhost:8080/"
        },
        "id": "8da87332",
        "outputId": "780768a4-0ab8-4bc8-f531-ef320dd3fb3a"
      },
      "source": [
        "# text 정제 함수 생성 : 한글 이외의 문자는 전부 제거함.\n",
        "def Preprocessing(text, tagger, remove_stopwords=False, stop_words=[]) :\n",
        "    # 한글 정규식 정의(띄어쓰기, ㄱ ~ ㅣ, 가 ~ 힣)\n",
        "    text = re.sub('[^ ㄱ-ㅣ가-힣]+','',text)\n",
        "    \n",
        "    # 텍스트를 형태소로 분리후 각 단어로부터 어간을 추출.(stem=True)\n",
        "    word_text = tagger.morphs(text, stem=True)\n",
        "    \n",
        "    # 불용어 처리.\n",
        "    if remove_stopwords :\n",
        "        word_text = [ t for t in word_text if not t in stop_words ]\n",
        "        \n",
        "    return word_text\n",
        "\n",
        "# 한글 불용어 사전 파일 이용.\n",
        "with open('/content/drive/MyDrive/dacon nlp/korean_stopwords.txt', encoding='utf-8') as fp :\n",
        "    stop_words = fp.readlines()\n",
        "    \n",
        "# \\n 제거.\n",
        "stop_words = [ x.strip() for x in stop_words ]\n",
        "# print(stop_words)\n",
        "# print('-'*135)\n",
        "# print()\n",
        "\n",
        "# Okt 이용.\n",
        "tagger = Okt()\n",
        "\n",
        "# train, test 데이터를 정제한 텍스트를 담을 리스트 생성.\n",
        "Clean_train_data = []\n",
        "Clean_test_data  = []\n",
        "\n",
        "# Train dataset 정제 작업 시작.\n",
        "for text in tqdm.tqdm(x_train) :\n",
        "    try :\n",
        "        Clean_train_data.append(Preprocessing(text, tagger, remove_stopwords=True, stop_words=stop_words))\n",
        "    except :\n",
        "        Clean_train_data.append([])\n",
        "\n",
        "# est dataset 정제 작업 시작.\n",
        "for text in tqdm.tqdm(x_test) :\n",
        "    if type(text) == str :\n",
        "        Clean_test_data.append(Preprocessing(text, tagger, remove_stopwords=True, stop_words=stop_words))\n",
        "    else :\n",
        "        Clean_test_data.append([])   \n",
        "        \n",
        "# 정제된 데이터의 수.\n",
        "print(f'Train data : {len(Clean_train_data)}')\n",
        "print(f'Test data  : {len(Clean_test_data)}')"
      ],
      "id": "8da87332",
      "execution_count": null,
      "outputs": [
        {
          "output_type": "stream",
          "text": [
            "100%|██████████| 174304/174304 [1:08:31<00:00, 42.39it/s]\n",
            "100%|██████████| 43576/43576 [24:47<00:00, 29.30it/s]"
          ],
          "name": "stderr"
        },
        {
          "output_type": "stream",
          "text": [
            "Train data : 174304\n",
            "Test data  : 43576\n"
          ],
          "name": "stdout"
        },
        {
          "output_type": "stream",
          "text": [
            "\n"
          ],
          "name": "stderr"
        }
      ]
    },
    {
      "cell_type": "code",
      "metadata": {
        "id": "ee8ec047",
        "colab": {
          "base_uri": "https://localhost:8080/"
        },
        "outputId": "d2244e22-52be-4d2f-aa1b-420db19f7f33"
      },
      "source": [
        "# 우선 특별한 옵션을 지정하지 않고 진행.\n",
        "token = Tokenizer()\n",
        "\n",
        "# fit_on_texts() : 입력으로 들어온 텍스트에서 단어의 빈도수가 높은 순으로 낮은 숫자부터 인덱스 부여, 단어 집합 생성.\n",
        "token.fit_on_texts(Clean_train_data)\n",
        "\n",
        "# 단어 사전을 통해 문장의 각 단어를 숫자(시퀀스 형태)로 변환. : 인덱스로만 채워진 새로운 배열을 생성한다는 의미.\n",
        "Train_squences = token.texts_to_sequences(Clean_train_data)\n",
        "Test_squences  = token.texts_to_sequences(Clean_test_data)\n",
        "\n",
        "# 한 문장의 최대 단어 수를 가져옴.\n",
        "max_cnt = 0\n",
        "for c in Train_squences :\n",
        "    # 현재 문장의 글자수.\n",
        "    cnt = len(c)\n",
        "    # 현재 문장의 글자수가 이전 최대 수치보다 많으면 덮어쓰기.\n",
        "    if max_cnt < cnt :\n",
        "        max_cnt = cnt\n",
        "print(f'최대 단어의 개수 : {max_cnt}')\n",
        "\n",
        "# Padding 처리 : 서로 길이가 다른 리스트의 개수를 max_cnt로 맞춰줌.\n",
        "# 끝 부분으로 적용. ==> 즉 max_cnt 길이의 리스트로 동일하게 맞춰주기 위해 부족한 부분으로 뒤에서 부터 0으로 채우는 작업을 의미.\n",
        "padded_train = pad_sequences(Train_squences, max_cnt, padding='post')\n",
        "padded_test  = pad_sequences(Test_squences, max_cnt, padding='post')\n",
        "\n",
        "# One-hot-encoding.\n",
        "# 주의 : 맨 앞에 0이 추가됨.\n",
        "voca_size = len(token.word_index) + 1\n",
        "# train_x = to_categorical(Train_squences, num_classes = voca_size)\n",
        "# test_x  = to_categorical(Test_squences, num_classes = voca_size)"
      ],
      "id": "ee8ec047",
      "execution_count": null,
      "outputs": [
        {
          "output_type": "stream",
          "text": [
            "최대 단어의 개수 : 689\n"
          ],
          "name": "stdout"
        }
      ]
    },
    {
      "cell_type": "code",
      "metadata": {
        "id": "qaNwWBNCm5Ay"
      },
      "source": [
        "padded_train = np.load(#경로)\n",
        "padded_test  = np.load()"
      ],
      "id": "qaNwWBNCm5Ay",
      "execution_count": null,
      "outputs": []
    },
    {
      "cell_type": "code",
      "metadata": {
        "id": "JPRN4Nc7Tua2"
      },
      "source": [
        "#추후 재사용 가능하도록 npy로 전환\n",
        "import json\n",
        "\n",
        "DATA_IN_PATH='/content/drive/MyDrive/dacon nlp/train_data/f5/'\n",
        "TRAIN_INPUT_DATA = 'train_input_f5.npy'\n",
        "TEST_INPUT_DATA = 'test_input_f5.npy'\n",
        "\n",
        "import os\n",
        "if not os.path.exists(DATA_IN_PATH):\n",
        "    os.makedirs(DATA_IN_PATH)\n",
        "    \n",
        "np.save(open(DATA_IN_PATH+TRAIN_INPUT_DATA, 'wb'), padded_train)\n",
        "np.save(open(DATA_IN_PATH+TEST_INPUT_DATA, 'wb'), padded_test)\n",
        "\n",
        "data_configs={}\n",
        "data_configs['vocab']=token.word_index\n",
        "data_configs['vocab_size'] = voca_size\n",
        "json.dump(data_configs, open(DATA_IN_PATH+'data_configs.json', 'w'), ensure_ascii=False)"
      ],
      "id": "JPRN4Nc7Tua2",
      "execution_count": null,
      "outputs": []
    },
    {
      "cell_type": "code",
      "metadata": {
        "id": "9a2d1c7f",
        "colab": {
          "base_uri": "https://localhost:8080/"
        },
        "outputId": "819dbbfe-19c7-4796-8eed-4d1b888a757c"
      },
      "source": [
        "# Modeling.\n",
        "\n",
        "# 학습 모델을 구성.\n",
        "model = Sequential()\n",
        "\n",
        "# word embedding : 데이터 공간의 효율성을 위해 주어진 배열을 정해진 길이로 압축하는 작업.\n",
        "# keras의 Embedding 함수는 오차역전파 방식으로 각 단어 간의 최적의 유사도를 계산.\n",
        "model.add(Embedding(voca_size, 32, input_length = max_cnt))\n",
        "\n",
        "# 임시 데이터에 대한 글로벌 평균 풀링 작업.?\n",
        "model.add(GlobalAveragePooling1D())\n",
        "model.add(Dense(128, activation = 'relu'))\n",
        "\n",
        "# 다변량 라베링에 대한 결과이므로 Softmax 통과. 0, 1(0이 아닌)에 대한 이진 결과로 보고자할 시 Sigmoid로 통과.\n",
        "model.add(Dense(46, activation = 'softmax'))\n",
        "# model.summary()\n",
        "\n",
        "# 컴파일.\n",
        "model.compile(loss = 'sparse_categorical_crossentropy', optimizer = 'adam', metrics = ['accuracy'])\n",
        "\n",
        "# 모델 저장 폴더 설정.\n",
        "model_dir = '/content/drive/MyDrive/dacon nlp/models/f5'\n",
        "\n",
        "# 해당 폴더가 존재하지 않으면 생성.\n",
        "if not os.path.isdir(model_dir) :                                                           \n",
        "    os.mkdir(model_dir)\n",
        "    \n",
        "# Callback 조건 설정.\n",
        "model_path = model_dir+'{epoch}-{val_loss}.hdf5'\n",
        "\n",
        "# Validation Loss를 기준으로 조건 판단.\n",
        "callback1 = ModelCheckpoint(filepath = model_path, monitor = 'val_loss', verbose = 1, save_best_only = True)\n",
        "\n",
        "# 이전 가장 좋은 결과 대비 10회 이상 후에도 향상 되는 결과가 나오지 않을시 학습 중단.\n",
        "callback2 = EarlyStopping(monitor = 'val_loss', patience=10)\n",
        "\n",
        "# 모델 학습.\n",
        "history = model.fit(padded_train, y_train, validation_split = 0.2, epochs = 30, verbose = 0, callbacks = [callback1, callback2])"
      ],
      "id": "9a2d1c7f",
      "execution_count": null,
      "outputs": [
        {
          "output_type": "stream",
          "text": [
            "\n",
            "Epoch 00001: val_loss improved from inf to 0.89972, saving model to /content/drive/MyDrive/dacon nlp/models/f51-0.8997244238853455.hdf5\n",
            "\n",
            "Epoch 00002: val_loss improved from 0.89972 to 0.78890, saving model to /content/drive/MyDrive/dacon nlp/models/f52-0.788901150226593.hdf5\n",
            "\n",
            "Epoch 00003: val_loss improved from 0.78890 to 0.70368, saving model to /content/drive/MyDrive/dacon nlp/models/f53-0.7036790251731873.hdf5\n",
            "\n",
            "Epoch 00004: val_loss improved from 0.70368 to 0.65382, saving model to /content/drive/MyDrive/dacon nlp/models/f54-0.6538187265396118.hdf5\n",
            "\n",
            "Epoch 00005: val_loss improved from 0.65382 to 0.61789, saving model to /content/drive/MyDrive/dacon nlp/models/f55-0.6178860068321228.hdf5\n",
            "\n",
            "Epoch 00006: val_loss improved from 0.61789 to 0.60250, saving model to /content/drive/MyDrive/dacon nlp/models/f56-0.6024996638298035.hdf5\n",
            "\n",
            "Epoch 00007: val_loss did not improve from 0.60250\n",
            "\n",
            "Epoch 00008: val_loss improved from 0.60250 to 0.59139, saving model to /content/drive/MyDrive/dacon nlp/models/f58-0.5913911461830139.hdf5\n",
            "\n",
            "Epoch 00009: val_loss improved from 0.59139 to 0.56824, saving model to /content/drive/MyDrive/dacon nlp/models/f59-0.5682429671287537.hdf5\n",
            "\n",
            "Epoch 00010: val_loss improved from 0.56824 to 0.54945, saving model to /content/drive/MyDrive/dacon nlp/models/f510-0.5494460463523865.hdf5\n",
            "\n",
            "Epoch 00011: val_loss did not improve from 0.54945\n",
            "\n",
            "Epoch 00012: val_loss improved from 0.54945 to 0.54622, saving model to /content/drive/MyDrive/dacon nlp/models/f512-0.5462183356285095.hdf5\n",
            "\n",
            "Epoch 00013: val_loss did not improve from 0.54622\n",
            "\n",
            "Epoch 00014: val_loss did not improve from 0.54622\n",
            "\n",
            "Epoch 00015: val_loss did not improve from 0.54622\n",
            "\n",
            "Epoch 00016: val_loss did not improve from 0.54622\n",
            "\n",
            "Epoch 00017: val_loss did not improve from 0.54622\n",
            "\n",
            "Epoch 00018: val_loss did not improve from 0.54622\n",
            "\n",
            "Epoch 00019: val_loss did not improve from 0.54622\n",
            "\n",
            "Epoch 00020: val_loss did not improve from 0.54622\n",
            "\n",
            "Epoch 00021: val_loss did not improve from 0.54622\n",
            "\n",
            "Epoch 00022: val_loss did not improve from 0.54622\n"
          ],
          "name": "stdout"
        }
      ]
    },
    {
      "cell_type": "code",
      "metadata": {
        "id": "71726edc",
        "colab": {
          "base_uri": "https://localhost:8080/"
        },
        "outputId": "2368bf79-a190-44dd-e7fc-0524271f4b71"
      },
      "source": [
        "# 성능 최적의 모델 로딩.\n",
        "# 모델 폴더의 가장 마지막에 위치한 파일명 입력.\n",
        "best_model = load_model('/content/drive/MyDrive/dacon nlp/models/f512-0.5462183356285095.hdf5')\n",
        "best_model.evaluate(padded_train, y_train)[1]"
      ],
      "id": "71726edc",
      "execution_count": null,
      "outputs": [
        {
          "output_type": "stream",
          "text": [
            "5447/5447 [==============================] - 14s 3ms/step - loss: 0.3218 - accuracy: 0.9128\n"
          ],
          "name": "stdout"
        },
        {
          "output_type": "execute_result",
          "data": {
            "text/plain": [
              "0.912773072719574"
            ]
          },
          "metadata": {
            "tags": []
          },
          "execution_count": 23
        }
      ]
    },
    {
      "cell_type": "code",
      "metadata": {
        "id": "cd96ac58",
        "colab": {
          "base_uri": "https://localhost:8080/",
          "height": 374
        },
        "outputId": "241069d9-e2d0-4341-c4ad-cc3832948dd7"
      },
      "source": [
        "# Train Loss\n",
        "y_loss = history.history['loss']\n",
        "# Validation Loss\n",
        "y_vloss = history.history['val_loss']\n",
        "\n",
        "plt.figure(figsize=(8,6))\n",
        "x_len = np.arange(len(y_loss))\n",
        "plt.plot(x_len, y_loss,  label='Train Loss', c='coral', alpha=.8)\n",
        "plt.plot(x_len, y_vloss,  label='Validation Loss', c='cornflowerblue', alpha=.8)\n",
        "plt.legend()\n",
        "plt.show()"
      ],
      "id": "cd96ac58",
      "execution_count": null,
      "outputs": [
        {
          "output_type": "display_data",
          "data": {
            "image/png": "[encoded data removed]",
            "text/plain": [
              "<Figure size 576x432 with 1 Axes>"
            ]
          },
          "metadata": {
            "tags": [],
            "needs_background": "light"
          }
        }
      ]
    },
    {
      "cell_type": "code",
      "metadata": {
        "id": "69340dae"
      },
      "source": [
        "pred = best_model.predict(padded_test)\n",
        "pred = tf.argmax(pred, axis = 1)\n",
        "\n",
        "df = pd.read_csv('/content/drive/MyDrive/dacon nlp/sample_submission.csv')\n",
        "df['label'] = pred\n",
        "df.to_csv('/content/drive/MyDrive/dacon nlp/testmodel/f5_Baseline_test1.csv', index=False)"
      ],
      "id": "69340dae",
      "execution_count": null,
      "outputs": []
    },
    {
      "cell_type": "code",
      "metadata": {
        "id": "fd220921",
        "colab": {
          "base_uri": "https://localhost:8080/",
          "height": 419
        },
        "outputId": "125fced0-4c69-49f8-ab70-58751b39a294"
      },
      "source": [
        "pd.read_csv('/content/drive/MyDrive/dacon nlp/testmodel/f5_Baseline_test1.csv')"
      ],
      "id": "fd220921",
      "execution_count": null,
      "outputs": [
        {
          "output_type": "execute_result",
          "data": {
            "text/html": [
              "<div>\n",
              "<style scoped>\n",
              "    .dataframe tbody tr th:only-of-type {\n",
              "        vertical-align: middle;\n",
              "    }\n",
              "\n",
              "    .dataframe tbody tr th {\n",
              "        vertical-align: top;\n",
              "    }\n",
              "\n",
              "    .dataframe thead th {\n",
              "        text-align: right;\n",
              "    }\n",
              "</style>\n",
              "<table border=\"1\" class=\"dataframe\">\n",
              "  <thead>\n",
              "    <tr style=\"text-align: right;\">\n",
              "      <th></th>\n",
              "      <th>index</th>\n",
              "      <th>label</th>\n",
              "    </tr>\n",
              "  </thead>\n",
              "  <tbody>\n",
              "    <tr>\n",
              "      <th>0</th>\n",
              "      <td>174304</td>\n",
              "      <td>0</td>\n",
              "    </tr>\n",
              "    <tr>\n",
              "      <th>1</th>\n",
              "      <td>174305</td>\n",
              "      <td>0</td>\n",
              "    </tr>\n",
              "    <tr>\n",
              "      <th>2</th>\n",
              "      <td>174306</td>\n",
              "      <td>0</td>\n",
              "    </tr>\n",
              "    <tr>\n",
              "      <th>3</th>\n",
              "      <td>174307</td>\n",
              "      <td>0</td>\n",
              "    </tr>\n",
              "    <tr>\n",
              "      <th>4</th>\n",
              "      <td>174308</td>\n",
              "      <td>1</td>\n",
              "    </tr>\n",
              "    <tr>\n",
              "      <th>...</th>\n",
              "      <td>...</td>\n",
              "      <td>...</td>\n",
              "    </tr>\n",
              "    <tr>\n",
              "      <th>43571</th>\n",
              "      <td>217875</td>\n",
              "      <td>0</td>\n",
              "    </tr>\n",
              "    <tr>\n",
              "      <th>43572</th>\n",
              "      <td>217876</td>\n",
              "      <td>0</td>\n",
              "    </tr>\n",
              "    <tr>\n",
              "      <th>43573</th>\n",
              "      <td>217877</td>\n",
              "      <td>2</td>\n",
              "    </tr>\n",
              "    <tr>\n",
              "      <th>43574</th>\n",
              "      <td>217878</td>\n",
              "      <td>0</td>\n",
              "    </tr>\n",
              "    <tr>\n",
              "      <th>43575</th>\n",
              "      <td>217879</td>\n",
              "      <td>0</td>\n",
              "    </tr>\n",
              "  </tbody>\n",
              "</table>\n",
              "<p>43576 rows × 2 columns</p>\n",
              "</div>"
            ],
            "text/plain": [
              "        index  label\n",
              "0      174304      0\n",
              "1      174305      0\n",
              "2      174306      0\n",
              "3      174307      0\n",
              "4      174308      1\n",
              "...       ...    ...\n",
              "43571  217875      0\n",
              "43572  217876      0\n",
              "43573  217877      2\n",
              "43574  217878      0\n",
              "43575  217879      0\n",
              "\n",
              "[43576 rows x 2 columns]"
            ]
          },
          "metadata": {
            "tags": []
          },
          "execution_count": 26
        }
      ]
    },
    {
      "cell_type": "code",
      "metadata": {
        "id": "cSLq748IRv3p"
      },
      "source": [
        ""
      ],
      "id": "cSLq748IRv3p",
      "execution_count": null,
      "outputs": []
    }
  ]
}
