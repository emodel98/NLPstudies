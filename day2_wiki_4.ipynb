{
  "nbformat": 4,
  "nbformat_minor": 0,
  "metadata": {
    "colab": {
      "name": "day2_wiki_4.ipynb",
      "provenance": [],
      "collapsed_sections": [
        "_RXRq_lcw5Z5",
        "I4Q3mM6axUgc"
      ]
    },
    "kernelspec": {
      "name": "python3",
      "display_name": "Python 3"
    },
    "language_info": {
      "name": "python"
    }
  },
  "cells": [
    {
      "cell_type": "markdown",
      "metadata": {
        "id": "qx6cXTnGL9ow"
      },
      "source": [
        "https://wikidocs.net/24654"
      ]
    },
    {
      "cell_type": "markdown",
      "metadata": {
        "id": "0qJTce560Rtj"
      },
      "source": [
        "#Count based word Representation\n",
        "\n",
        "\n",
        "*   자연어를 머신러닝 등의 알고리즘이 이해할 수 있는 형태(함수의 입력값)로 수치화시키자.\n",
        "*   문장 간 유사도 측정에 사용 가능.\n",
        "\n",
        "  ### **국소표현(이산표현)**\n",
        "\n",
        "  *   해당 단어 그 자체만 보고 특정값을 맵핑해 단어를 표현\n",
        "  *   Bag of words, One-hot vector, N-gram(2장)\n",
        "\n",
        "  ### **분산표현(연속표현)**\n",
        "\n",
        "  *   그 단어를 표현하고자 주변을 참고해 단어를 표현. 문맥 고려 가능. 단어의 뉘앙스 반영\n",
        "  *   Word2vec(10장), FastText(10장), LSA(6장)\n",
        "\n",
        "\n",
        "\n"
      ]
    },
    {
      "cell_type": "markdown",
      "metadata": {
        "id": "OdNM1kEi0SxA"
      },
      "source": [
        "![단어표현.png](data:image/png;base64,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)"
      ]
    },
    {
      "cell_type": "markdown",
      "metadata": {
        "id": "F2CFQDyS0RmD"
      },
      "source": [
        "#Bag of Words(BoW)\n",
        "\n",
        "*   단어들의 순서는 전혀 고려하지 않고, 단어들의 출현 빈도(frequency)에만 집중하는 텍스트 데이터의 수치화 표현 \n",
        "*   BoW 만드는 과정\n",
        "  *   각 단어에 고유한 정수 인덱스 부여\n",
        "  *   각 인덱스의 위치에 단어 토큰의 등장 횟수를 기록한 벡터 만듦\n",
        "\n",
        "\n",
        "\n",
        "\n",
        "\n",
        "\n"
      ]
    },
    {
      "cell_type": "code",
      "metadata": {
        "colab": {
          "base_uri": "https://localhost:8080/"
        },
        "id": "7RmYxAFFFzxc",
        "outputId": "18d4fa93-e21d-4566-827c-174ede59292d"
      },
      "source": [
        "!pip install konlpy"
      ],
      "execution_count": 20,
      "outputs": [
        {
          "output_type": "stream",
          "text": [
            "Collecting konlpy\n",
            "\u001b[?25l  Downloading https://files.pythonhosted.org/packages/85/0e/f385566fec837c0b83f216b2da65db9997b35dd675e107752005b7d392b1/konlpy-0.5.2-py2.py3-none-any.whl (19.4MB)\n",
            "\u001b[K     |████████████████████████████████| 19.4MB 1.3MB/s \n",
            "\u001b[?25hRequirement already satisfied: numpy>=1.6 in /usr/local/lib/python3.7/dist-packages (from konlpy) (1.19.5)\n",
            "Collecting beautifulsoup4==4.6.0\n",
            "\u001b[?25l  Downloading https://files.pythonhosted.org/packages/9e/d4/10f46e5cfac773e22707237bfcd51bbffeaf0a576b0a847ec7ab15bd7ace/beautifulsoup4-4.6.0-py3-none-any.whl (86kB)\n",
            "\u001b[K     |████████████████████████████████| 92kB 9.4MB/s \n",
            "\u001b[?25hCollecting colorama\n",
            "  Downloading https://files.pythonhosted.org/packages/44/98/5b86278fbbf250d239ae0ecb724f8572af1c91f4a11edf4d36a206189440/colorama-0.4.4-py2.py3-none-any.whl\n",
            "Requirement already satisfied: tweepy>=3.7.0 in /usr/local/lib/python3.7/dist-packages (from konlpy) (3.10.0)\n",
            "Collecting JPype1>=0.7.0\n",
            "\u001b[?25l  Downloading https://files.pythonhosted.org/packages/cd/a5/9781e2ef4ca92d09912c4794642c1653aea7607f473e156cf4d423a881a1/JPype1-1.2.1-cp37-cp37m-manylinux2010_x86_64.whl (457kB)\n",
            "\u001b[K     |████████████████████████████████| 460kB 39.8MB/s \n",
            "\u001b[?25hRequirement already satisfied: lxml>=4.1.0 in /usr/local/lib/python3.7/dist-packages (from konlpy) (4.2.6)\n",
            "Requirement already satisfied: six>=1.10.0 in /usr/local/lib/python3.7/dist-packages (from tweepy>=3.7.0->konlpy) (1.15.0)\n",
            "Requirement already satisfied: requests[socks]>=2.11.1 in /usr/local/lib/python3.7/dist-packages (from tweepy>=3.7.0->konlpy) (2.23.0)\n",
            "Requirement already satisfied: requests-oauthlib>=0.7.0 in /usr/local/lib/python3.7/dist-packages (from tweepy>=3.7.0->konlpy) (1.3.0)\n",
            "Requirement already satisfied: typing-extensions; python_version < \"3.8\" in /usr/local/lib/python3.7/dist-packages (from JPype1>=0.7.0->konlpy) (3.7.4.3)\n",
            "Requirement already satisfied: certifi>=2017.4.17 in /usr/local/lib/python3.7/dist-packages (from requests[socks]>=2.11.1->tweepy>=3.7.0->konlpy) (2020.12.5)\n",
            "Requirement already satisfied: chardet<4,>=3.0.2 in /usr/local/lib/python3.7/dist-packages (from requests[socks]>=2.11.1->tweepy>=3.7.0->konlpy) (3.0.4)\n",
            "Requirement already satisfied: urllib3!=1.25.0,!=1.25.1,<1.26,>=1.21.1 in /usr/local/lib/python3.7/dist-packages (from requests[socks]>=2.11.1->tweepy>=3.7.0->konlpy) (1.24.3)\n",
            "Requirement already satisfied: idna<3,>=2.5 in /usr/local/lib/python3.7/dist-packages (from requests[socks]>=2.11.1->tweepy>=3.7.0->konlpy) (2.10)\n",
            "Requirement already satisfied: PySocks!=1.5.7,>=1.5.6; extra == \"socks\" in /usr/local/lib/python3.7/dist-packages (from requests[socks]>=2.11.1->tweepy>=3.7.0->konlpy) (1.7.1)\n",
            "Requirement already satisfied: oauthlib>=3.0.0 in /usr/local/lib/python3.7/dist-packages (from requests-oauthlib>=0.7.0->tweepy>=3.7.0->konlpy) (3.1.0)\n",
            "Installing collected packages: beautifulsoup4, colorama, JPype1, konlpy\n",
            "  Found existing installation: beautifulsoup4 4.6.3\n",
            "    Uninstalling beautifulsoup4-4.6.3:\n",
            "      Successfully uninstalled beautifulsoup4-4.6.3\n",
            "Successfully installed JPype1-1.2.1 beautifulsoup4-4.6.0 colorama-0.4.4 konlpy-0.5.2\n"
          ],
          "name": "stdout"
        }
      ]
    },
    {
      "cell_type": "code",
      "metadata": {
        "colab": {
          "base_uri": "https://localhost:8080/"
        },
        "id": "MY4NUD5W3O-6",
        "outputId": "36d4cc99-9ef1-4c51-9979-b5c2df3be022"
      },
      "source": [
        "from konlpy.tag import Okt\n",
        "import re  \n",
        "okt=Okt()  \n",
        "\n",
        "token=re.sub(\"(\\.)\",\"\",\"정부가 발표하는 물가상승률과 소비자가 느끼는 물가상승률은 다르다.\")  \n",
        "# 정규 표현식->온점 제거  \n",
        "token=okt.morphs(token)  \n",
        "# OKT 형태소 분석기(토큰화 작업)-> token에 넣기 \n",
        "\n",
        "word2index={}  \n",
        "bow=[]  \n",
        "for voca in token:  \n",
        "         if voca not in word2index.keys():  \n",
        "             word2index[voca]=len(word2index)  \n",
        "# token을 읽으, word2index에 없는 어는 새로 추가하고, 이미 있는 단어는 넘   \n",
        "             bow.insert(len(word2index)-1,1)\n",
        "# BoW 전체에 전부 기본값 1 넣음 (단어의 개수->최소 1개)\n",
        "         else:\n",
        "            index=word2index.get(voca)\n",
        "# 재등장하는 단어의 인덱스를 받아옴\n",
        "            bow[index]=bow[index]+1\n",
        "# 재등장한 단어는 해당하 인덱스의 위치에 1을 더함\n",
        "print(word2index)  "
      ],
      "execution_count": 21,
      "outputs": [
        {
          "output_type": "stream",
          "text": [
            "{'정부': 0, '가': 1, '발표': 2, '하는': 3, '물가상승률': 4, '과': 5, '소비자': 6, '느끼는': 7, '은': 8, '다르다': 9}\n"
          ],
          "name": "stdout"
        }
      ]
    },
    {
      "cell_type": "code",
      "metadata": {
        "colab": {
          "base_uri": "https://localhost:8080/"
        },
        "id": "1vWg2lkH3WYP",
        "outputId": "efc92624-6f4a-4d3f-dc1c-5a240a5ea90e"
      },
      "source": [
        "bow"
      ],
      "execution_count": 22,
      "outputs": [
        {
          "output_type": "execute_result",
          "data": {
            "text/plain": [
              "[1, 2, 1, 1, 2, 1, 1, 1, 1, 1]"
            ]
          },
          "metadata": {
            "tags": []
          },
          "execution_count": 22
        }
      ]
    },
    {
      "cell_type": "markdown",
      "metadata": {
        "id": "LYQKDy944dr5"
      },
      "source": [
        "불용어 제거한 BoW 만들기"
      ]
    },
    {
      "cell_type": "code",
      "metadata": {
        "colab": {
          "base_uri": "https://localhost:8080/"
        },
        "id": "KHccKXGbGoHv",
        "outputId": "40df2461-659b-44fd-879d-e91b22c9c3b2"
      },
      "source": [
        "!pip install nltk\n"
      ],
      "execution_count": 29,
      "outputs": [
        {
          "output_type": "stream",
          "text": [
            "Requirement already satisfied: nltk in /usr/local/lib/python3.7/dist-packages (3.2.5)\n",
            "Requirement already satisfied: six in /usr/local/lib/python3.7/dist-packages (from nltk) (1.15.0)\n"
          ],
          "name": "stdout"
        }
      ]
    },
    {
      "cell_type": "code",
      "metadata": {
        "colab": {
          "base_uri": "https://localhost:8080/",
          "height": 987
        },
        "id": "QiPEtWi_4h75",
        "outputId": "f5ab2139-4bee-487d-be38-d1c634413dbd"
      },
      "source": [
        "from sklearn.feature_extraction.text import CountVectorizer\n",
        "from nltk.corpus import stopwords\n",
        "\n",
        "text=[\"Family is not an important thing. It's everything.\"]\n",
        "# vect = CountVectorizer(stop_words=[\"the\", \"a\", \"an\", \"is\", \"not\"])  #직접 정의\n",
        "\n",
        "# vect = CountVectorizer(stop_words=\"english\")  #CountVectorizer 제공 자체 불용\n",
        "\n",
        "sw = stopwords.words(\"english\")               #NLTK 제공 불용어\n",
        "vect = CountVectorizer(stop_words =sw)\n",
        "\n",
        "print(vect.fit_transform(text).toarray()) \n",
        "print(vect.vocabulary_)"
      ],
      "execution_count": 26,
      "outputs": [
        {
          "output_type": "error",
          "ename": "LookupError",
          "evalue": "ignored",
          "traceback": [
            "\u001b[0;31m---------------------------------------------------------------------------\u001b[0m",
            "\u001b[0;31mLookupError\u001b[0m                               Traceback (most recent call last)",
            "\u001b[0;32m/usr/local/lib/python3.7/dist-packages/nltk/corpus/util.py\u001b[0m in \u001b[0;36m__load\u001b[0;34m(self)\u001b[0m\n\u001b[1;32m     79\u001b[0m             \u001b[0;32mexcept\u001b[0m \u001b[0mLookupError\u001b[0m \u001b[0;32mas\u001b[0m \u001b[0me\u001b[0m\u001b[0;34m:\u001b[0m\u001b[0;34m\u001b[0m\u001b[0;34m\u001b[0m\u001b[0m\n\u001b[0;32m---> 80\u001b[0;31m                 \u001b[0;32mtry\u001b[0m\u001b[0;34m:\u001b[0m \u001b[0mroot\u001b[0m \u001b[0;34m=\u001b[0m \u001b[0mnltk\u001b[0m\u001b[0;34m.\u001b[0m\u001b[0mdata\u001b[0m\u001b[0;34m.\u001b[0m\u001b[0mfind\u001b[0m\u001b[0;34m(\u001b[0m\u001b[0;34m'{}/{}'\u001b[0m\u001b[0;34m.\u001b[0m\u001b[0mformat\u001b[0m\u001b[0;34m(\u001b[0m\u001b[0mself\u001b[0m\u001b[0;34m.\u001b[0m\u001b[0msubdir\u001b[0m\u001b[0;34m,\u001b[0m \u001b[0mzip_name\u001b[0m\u001b[0;34m)\u001b[0m\u001b[0;34m)\u001b[0m\u001b[0;34m\u001b[0m\u001b[0;34m\u001b[0m\u001b[0m\n\u001b[0m\u001b[1;32m     81\u001b[0m                 \u001b[0;32mexcept\u001b[0m \u001b[0mLookupError\u001b[0m\u001b[0;34m:\u001b[0m \u001b[0;32mraise\u001b[0m \u001b[0me\u001b[0m\u001b[0;34m\u001b[0m\u001b[0;34m\u001b[0m\u001b[0m\n",
            "\u001b[0;32m/usr/local/lib/python3.7/dist-packages/nltk/data.py\u001b[0m in \u001b[0;36mfind\u001b[0;34m(resource_name, paths)\u001b[0m\n\u001b[1;32m    672\u001b[0m     \u001b[0mresource_not_found\u001b[0m \u001b[0;34m=\u001b[0m \u001b[0;34m'\\n%s\\n%s\\n%s\\n'\u001b[0m \u001b[0;34m%\u001b[0m \u001b[0;34m(\u001b[0m\u001b[0msep\u001b[0m\u001b[0;34m,\u001b[0m \u001b[0mmsg\u001b[0m\u001b[0;34m,\u001b[0m \u001b[0msep\u001b[0m\u001b[0;34m)\u001b[0m\u001b[0;34m\u001b[0m\u001b[0;34m\u001b[0m\u001b[0m\n\u001b[0;32m--> 673\u001b[0;31m     \u001b[0;32mraise\u001b[0m \u001b[0mLookupError\u001b[0m\u001b[0;34m(\u001b[0m\u001b[0mresource_not_found\u001b[0m\u001b[0;34m)\u001b[0m\u001b[0;34m\u001b[0m\u001b[0;34m\u001b[0m\u001b[0m\n\u001b[0m\u001b[1;32m    674\u001b[0m \u001b[0;34m\u001b[0m\u001b[0m\n",
            "\u001b[0;31mLookupError\u001b[0m: \n**********************************************************************\n  Resource \u001b[93mstopwords\u001b[0m not found.\n  Please use the NLTK Downloader to obtain the resource:\n\n  \u001b[31m>>> import nltk\n  >>> nltk.download('stopwords')\n  \u001b[0m\n  Searched in:\n    - '/root/nltk_data'\n    - '/usr/share/nltk_data'\n    - '/usr/local/share/nltk_data'\n    - '/usr/lib/nltk_data'\n    - '/usr/local/lib/nltk_data'\n    - '/usr/nltk_data'\n    - '/usr/lib/nltk_data'\n**********************************************************************\n",
            "\nDuring handling of the above exception, another exception occurred:\n",
            "\u001b[0;31mLookupError\u001b[0m                               Traceback (most recent call last)",
            "\u001b[0;32m<ipython-input-26-da3d70162d2a>\u001b[0m in \u001b[0;36m<module>\u001b[0;34m()\u001b[0m\n\u001b[1;32m      7\u001b[0m \u001b[0;31m# vect = CountVectorizer(stop_words=\"english\")  #CountVectorizer 제공 자체 불용\u001b[0m\u001b[0;34m\u001b[0m\u001b[0;34m\u001b[0m\u001b[0;34m\u001b[0m\u001b[0m\n\u001b[1;32m      8\u001b[0m \u001b[0;34m\u001b[0m\u001b[0m\n\u001b[0;32m----> 9\u001b[0;31m \u001b[0msw\u001b[0m \u001b[0;34m=\u001b[0m \u001b[0mstopwords\u001b[0m\u001b[0;34m.\u001b[0m\u001b[0mwords\u001b[0m\u001b[0;34m(\u001b[0m\u001b[0;34m\"english\"\u001b[0m\u001b[0;34m)\u001b[0m               \u001b[0;31m#NLTK 제공 불용어\u001b[0m\u001b[0;34m\u001b[0m\u001b[0;34m\u001b[0m\u001b[0m\n\u001b[0m\u001b[1;32m     10\u001b[0m \u001b[0mvect\u001b[0m \u001b[0;34m=\u001b[0m \u001b[0mCountVectorizer\u001b[0m\u001b[0;34m(\u001b[0m\u001b[0mstop_words\u001b[0m \u001b[0;34m=\u001b[0m\u001b[0msw\u001b[0m\u001b[0;34m)\u001b[0m\u001b[0;34m\u001b[0m\u001b[0;34m\u001b[0m\u001b[0m\n\u001b[1;32m     11\u001b[0m \u001b[0;34m\u001b[0m\u001b[0m\n",
            "\u001b[0;32m/usr/local/lib/python3.7/dist-packages/nltk/corpus/util.py\u001b[0m in \u001b[0;36m__getattr__\u001b[0;34m(self, attr)\u001b[0m\n\u001b[1;32m    114\u001b[0m             \u001b[0;32mraise\u001b[0m \u001b[0mAttributeError\u001b[0m\u001b[0;34m(\u001b[0m\u001b[0;34m\"LazyCorpusLoader object has no attribute '__bases__'\"\u001b[0m\u001b[0;34m)\u001b[0m\u001b[0;34m\u001b[0m\u001b[0;34m\u001b[0m\u001b[0m\n\u001b[1;32m    115\u001b[0m \u001b[0;34m\u001b[0m\u001b[0m\n\u001b[0;32m--> 116\u001b[0;31m         \u001b[0mself\u001b[0m\u001b[0;34m.\u001b[0m\u001b[0m__load\u001b[0m\u001b[0;34m(\u001b[0m\u001b[0;34m)\u001b[0m\u001b[0;34m\u001b[0m\u001b[0;34m\u001b[0m\u001b[0m\n\u001b[0m\u001b[1;32m    117\u001b[0m         \u001b[0;31m# This looks circular, but its not, since __load() changes our\u001b[0m\u001b[0;34m\u001b[0m\u001b[0;34m\u001b[0m\u001b[0;34m\u001b[0m\u001b[0m\n\u001b[1;32m    118\u001b[0m         \u001b[0;31m# __class__ to something new:\u001b[0m\u001b[0;34m\u001b[0m\u001b[0;34m\u001b[0m\u001b[0;34m\u001b[0m\u001b[0m\n",
            "\u001b[0;32m/usr/local/lib/python3.7/dist-packages/nltk/corpus/util.py\u001b[0m in \u001b[0;36m__load\u001b[0;34m(self)\u001b[0m\n\u001b[1;32m     79\u001b[0m             \u001b[0;32mexcept\u001b[0m \u001b[0mLookupError\u001b[0m \u001b[0;32mas\u001b[0m \u001b[0me\u001b[0m\u001b[0;34m:\u001b[0m\u001b[0;34m\u001b[0m\u001b[0;34m\u001b[0m\u001b[0m\n\u001b[1;32m     80\u001b[0m                 \u001b[0;32mtry\u001b[0m\u001b[0;34m:\u001b[0m \u001b[0mroot\u001b[0m \u001b[0;34m=\u001b[0m \u001b[0mnltk\u001b[0m\u001b[0;34m.\u001b[0m\u001b[0mdata\u001b[0m\u001b[0;34m.\u001b[0m\u001b[0mfind\u001b[0m\u001b[0;34m(\u001b[0m\u001b[0;34m'{}/{}'\u001b[0m\u001b[0;34m.\u001b[0m\u001b[0mformat\u001b[0m\u001b[0;34m(\u001b[0m\u001b[0mself\u001b[0m\u001b[0;34m.\u001b[0m\u001b[0msubdir\u001b[0m\u001b[0;34m,\u001b[0m \u001b[0mzip_name\u001b[0m\u001b[0;34m)\u001b[0m\u001b[0;34m)\u001b[0m\u001b[0;34m\u001b[0m\u001b[0;34m\u001b[0m\u001b[0m\n\u001b[0;32m---> 81\u001b[0;31m                 \u001b[0;32mexcept\u001b[0m \u001b[0mLookupError\u001b[0m\u001b[0;34m:\u001b[0m \u001b[0;32mraise\u001b[0m \u001b[0me\u001b[0m\u001b[0;34m\u001b[0m\u001b[0;34m\u001b[0m\u001b[0m\n\u001b[0m\u001b[1;32m     82\u001b[0m \u001b[0;34m\u001b[0m\u001b[0m\n\u001b[1;32m     83\u001b[0m         \u001b[0;31m# Load the corpus.\u001b[0m\u001b[0;34m\u001b[0m\u001b[0;34m\u001b[0m\u001b[0;34m\u001b[0m\u001b[0m\n",
            "\u001b[0;32m/usr/local/lib/python3.7/dist-packages/nltk/corpus/util.py\u001b[0m in \u001b[0;36m__load\u001b[0;34m(self)\u001b[0m\n\u001b[1;32m     76\u001b[0m         \u001b[0;32melse\u001b[0m\u001b[0;34m:\u001b[0m\u001b[0;34m\u001b[0m\u001b[0;34m\u001b[0m\u001b[0m\n\u001b[1;32m     77\u001b[0m             \u001b[0;32mtry\u001b[0m\u001b[0;34m:\u001b[0m\u001b[0;34m\u001b[0m\u001b[0;34m\u001b[0m\u001b[0m\n\u001b[0;32m---> 78\u001b[0;31m                 \u001b[0mroot\u001b[0m \u001b[0;34m=\u001b[0m \u001b[0mnltk\u001b[0m\u001b[0;34m.\u001b[0m\u001b[0mdata\u001b[0m\u001b[0;34m.\u001b[0m\u001b[0mfind\u001b[0m\u001b[0;34m(\u001b[0m\u001b[0;34m'{}/{}'\u001b[0m\u001b[0;34m.\u001b[0m\u001b[0mformat\u001b[0m\u001b[0;34m(\u001b[0m\u001b[0mself\u001b[0m\u001b[0;34m.\u001b[0m\u001b[0msubdir\u001b[0m\u001b[0;34m,\u001b[0m \u001b[0mself\u001b[0m\u001b[0;34m.\u001b[0m\u001b[0m__name\u001b[0m\u001b[0;34m)\u001b[0m\u001b[0;34m)\u001b[0m\u001b[0;34m\u001b[0m\u001b[0;34m\u001b[0m\u001b[0m\n\u001b[0m\u001b[1;32m     79\u001b[0m             \u001b[0;32mexcept\u001b[0m \u001b[0mLookupError\u001b[0m \u001b[0;32mas\u001b[0m \u001b[0me\u001b[0m\u001b[0;34m:\u001b[0m\u001b[0;34m\u001b[0m\u001b[0;34m\u001b[0m\u001b[0m\n\u001b[1;32m     80\u001b[0m                 \u001b[0;32mtry\u001b[0m\u001b[0;34m:\u001b[0m \u001b[0mroot\u001b[0m \u001b[0;34m=\u001b[0m \u001b[0mnltk\u001b[0m\u001b[0;34m.\u001b[0m\u001b[0mdata\u001b[0m\u001b[0;34m.\u001b[0m\u001b[0mfind\u001b[0m\u001b[0;34m(\u001b[0m\u001b[0;34m'{}/{}'\u001b[0m\u001b[0;34m.\u001b[0m\u001b[0mformat\u001b[0m\u001b[0;34m(\u001b[0m\u001b[0mself\u001b[0m\u001b[0;34m.\u001b[0m\u001b[0msubdir\u001b[0m\u001b[0;34m,\u001b[0m \u001b[0mzip_name\u001b[0m\u001b[0;34m)\u001b[0m\u001b[0;34m)\u001b[0m\u001b[0;34m\u001b[0m\u001b[0;34m\u001b[0m\u001b[0m\n",
            "\u001b[0;32m/usr/local/lib/python3.7/dist-packages/nltk/data.py\u001b[0m in \u001b[0;36mfind\u001b[0;34m(resource_name, paths)\u001b[0m\n\u001b[1;32m    671\u001b[0m     \u001b[0msep\u001b[0m \u001b[0;34m=\u001b[0m \u001b[0;34m'*'\u001b[0m \u001b[0;34m*\u001b[0m \u001b[0;36m70\u001b[0m\u001b[0;34m\u001b[0m\u001b[0;34m\u001b[0m\u001b[0m\n\u001b[1;32m    672\u001b[0m     \u001b[0mresource_not_found\u001b[0m \u001b[0;34m=\u001b[0m \u001b[0;34m'\\n%s\\n%s\\n%s\\n'\u001b[0m \u001b[0;34m%\u001b[0m \u001b[0;34m(\u001b[0m\u001b[0msep\u001b[0m\u001b[0;34m,\u001b[0m \u001b[0mmsg\u001b[0m\u001b[0;34m,\u001b[0m \u001b[0msep\u001b[0m\u001b[0;34m)\u001b[0m\u001b[0;34m\u001b[0m\u001b[0;34m\u001b[0m\u001b[0m\n\u001b[0;32m--> 673\u001b[0;31m     \u001b[0;32mraise\u001b[0m \u001b[0mLookupError\u001b[0m\u001b[0;34m(\u001b[0m\u001b[0mresource_not_found\u001b[0m\u001b[0;34m)\u001b[0m\u001b[0;34m\u001b[0m\u001b[0;34m\u001b[0m\u001b[0m\n\u001b[0m\u001b[1;32m    674\u001b[0m \u001b[0;34m\u001b[0m\u001b[0m\n\u001b[1;32m    675\u001b[0m \u001b[0;34m\u001b[0m\u001b[0m\n",
            "\u001b[0;31mLookupError\u001b[0m: \n**********************************************************************\n  Resource \u001b[93mstopwords\u001b[0m not found.\n  Please use the NLTK Downloader to obtain the resource:\n\n  \u001b[31m>>> import nltk\n  >>> nltk.download('stopwords')\n  \u001b[0m\n  Searched in:\n    - '/root/nltk_data'\n    - '/usr/share/nltk_data'\n    - '/usr/local/share/nltk_data'\n    - '/usr/lib/nltk_data'\n    - '/usr/local/lib/nltk_data'\n    - '/usr/nltk_data'\n    - '/usr/lib/nltk_data'\n**********************************************************************\n"
          ]
        }
      ]
    },
    {
      "cell_type": "markdown",
      "metadata": {
        "id": "RF8Nt3E3x8KN"
      },
      "source": [
        "#TF-IDF"
      ]
    },
    {
      "cell_type": "markdown",
      "metadata": {
        "id": "hnn39LtL51Zm"
      },
      "source": [
        "- TF(Term Frequency, 단어 빈도): 특정 문서에서 특정 단어의 등장 횟수\n",
        "\n",
        "- DF(Document Frequency, 문서 빈도): 특정 단어가 등장한 문서의 수\n",
        "\n",
        "- IDF(Inverse Document Frequency, 역 문서 빈도)\n",
        "  - idf(d,t)=log(n/(1+df(t)))\n",
        "  - log-> IDF 가 기하급수적으로 커지는 것을 막아줌\n",
        "  - 1-> 분모 0 방지\n",
        "\n",
        "\n",
        "- TF-IDF는 모든 문서에서 자주 등장하는 단어는 중요도가 낮다고 판단, 특정 문서에서만 자주 등장하는 단어는 중요도가 높다고 판단. TF-IDF 값이 낮으면 중요도가 낮은 것이며, TF-IDF 값이 크면 중요도가 큰 것입니다. 즉, the나 a와 같이 불용어의 경우에는 모든 문서에 자주 등장하기 마련이기 때문에 자연스럽게 불용어의 TF-IDF의 값은 다른 단어의 TF-IDF에 비해서 낮아지게 됩니다."
      ]
    },
    {
      "cell_type": "code",
      "metadata": {
        "id": "lUm4cBIxkvGX"
      },
      "source": [
        "import pandas as pd #데이터프레임 사용을 위해\n",
        "from math import log #idf 계산을 위해"
      ],
      "execution_count": 31,
      "outputs": []
    },
    {
      "cell_type": "markdown",
      "metadata": {
        "id": "DzkZbjKMuQhw"
      },
      "source": [
        "4개의 문서를 docs에 저장"
      ]
    },
    {
      "cell_type": "code",
      "metadata": {
        "id": "Vb8w85VauDvr"
      },
      "source": [
        "docs = [\n",
        "  '먹고 싶은 사과',\n",
        "  '먹고 싶은 바나나',\n",
        "  '길고 노란 바나나 바나나',\n",
        "  '저는 과일이 좋아요'\n",
        "] \n",
        "vocab = list(set(w for doc in docs for w in doc.split()))\n",
        "vocab.sort()"
      ],
      "execution_count": 32,
      "outputs": []
    },
    {
      "cell_type": "markdown",
      "metadata": {
        "id": "QfXSme9uuM4U"
      },
      "source": [
        "TF, IDF, 그리고 TF-IDF 값을 구하는 함수를 구현"
      ]
    },
    {
      "cell_type": "code",
      "metadata": {
        "id": "f8Yqn8jyuPP0",
        "colab": {
          "base_uri": "https://localhost:8080/"
        },
        "outputId": "8d0bac42-23b3-4bfc-934f-55963e8b4d33"
      },
      "source": [
        "t ='hi'\n",
        "doc='hi my name is jiwon'\n",
        "\n",
        "df=0\n",
        "df += t in doc\n",
        "\n",
        "print(df)"
      ],
      "execution_count": 33,
      "outputs": [
        {
          "output_type": "stream",
          "text": [
            "1\n"
          ],
          "name": "stdout"
        }
      ]
    },
    {
      "cell_type": "code",
      "metadata": {
        "id": "OCfokWobuL1v"
      },
      "source": [
        "N = len(docs) # 총 문서의 수\n",
        "# t는 각 문서들에 포함된 단어\n",
        "# d는 특정 문서\n",
        "# df 문서빈도: 특정 단어 t가 등장한 문서\n",
        "def tf(t, d):\n",
        "    return d.count(t)\n",
        "\n",
        "def idf(t):\n",
        "    df=0\n",
        "    for doc in docs:\n",
        "      df+= t in doc\n",
        "    return log(N/(df+1))\n",
        "\n",
        "def tfidf(t, d):\n",
        "    return tf(t,d)* idf(t)"
      ],
      "execution_count": 34,
      "outputs": []
    },
    {
      "cell_type": "markdown",
      "metadata": {
        "id": "urmWQy7UwgtL"
      },
      "source": [
        "TF 구하기"
      ]
    },
    {
      "cell_type": "code",
      "metadata": {
        "colab": {
          "base_uri": "https://localhost:8080/",
          "height": 173
        },
        "id": "ErohvdKZwG-g",
        "outputId": "217236ad-d200-4573-ef0e-ec76486008ec"
      },
      "source": [
        "result = []\n",
        "for i in range(N): # 각 문서에 대해서 아래 명령을 수행\n",
        "    result.append([])\n",
        "    d = docs[i]\n",
        "    for j in range(len(vocab)):\n",
        "        t = vocab[j]        \n",
        "        result[-1].append(tf(t, d))\n",
        "\n",
        "tf_ = pd.DataFrame(result, columns = vocab)\n",
        "tf_"
      ],
      "execution_count": 35,
      "outputs": [
        {
          "output_type": "execute_result",
          "data": {
            "text/html": [
              "<div>\n",
              "<style scoped>\n",
              "    .dataframe tbody tr th:only-of-type {\n",
              "        vertical-align: middle;\n",
              "    }\n",
              "\n",
              "    .dataframe tbody tr th {\n",
              "        vertical-align: top;\n",
              "    }\n",
              "\n",
              "    .dataframe thead th {\n",
              "        text-align: right;\n",
              "    }\n",
              "</style>\n",
              "<table border=\"1\" class=\"dataframe\">\n",
              "  <thead>\n",
              "    <tr style=\"text-align: right;\">\n",
              "      <th></th>\n",
              "      <th>과일이</th>\n",
              "      <th>길고</th>\n",
              "      <th>노란</th>\n",
              "      <th>먹고</th>\n",
              "      <th>바나나</th>\n",
              "      <th>사과</th>\n",
              "      <th>싶은</th>\n",
              "      <th>저는</th>\n",
              "      <th>좋아요</th>\n",
              "    </tr>\n",
              "  </thead>\n",
              "  <tbody>\n",
              "    <tr>\n",
              "      <th>0</th>\n",
              "      <td>0</td>\n",
              "      <td>0</td>\n",
              "      <td>0</td>\n",
              "      <td>1</td>\n",
              "      <td>0</td>\n",
              "      <td>1</td>\n",
              "      <td>1</td>\n",
              "      <td>0</td>\n",
              "      <td>0</td>\n",
              "    </tr>\n",
              "    <tr>\n",
              "      <th>1</th>\n",
              "      <td>0</td>\n",
              "      <td>0</td>\n",
              "      <td>0</td>\n",
              "      <td>1</td>\n",
              "      <td>1</td>\n",
              "      <td>0</td>\n",
              "      <td>1</td>\n",
              "      <td>0</td>\n",
              "      <td>0</td>\n",
              "    </tr>\n",
              "    <tr>\n",
              "      <th>2</th>\n",
              "      <td>0</td>\n",
              "      <td>1</td>\n",
              "      <td>1</td>\n",
              "      <td>0</td>\n",
              "      <td>2</td>\n",
              "      <td>0</td>\n",
              "      <td>0</td>\n",
              "      <td>0</td>\n",
              "      <td>0</td>\n",
              "    </tr>\n",
              "    <tr>\n",
              "      <th>3</th>\n",
              "      <td>1</td>\n",
              "      <td>0</td>\n",
              "      <td>0</td>\n",
              "      <td>0</td>\n",
              "      <td>0</td>\n",
              "      <td>0</td>\n",
              "      <td>0</td>\n",
              "      <td>1</td>\n",
              "      <td>1</td>\n",
              "    </tr>\n",
              "  </tbody>\n",
              "</table>\n",
              "</div>"
            ],
            "text/plain": [
              "   과일이  길고  노란  먹고  바나나  사과  싶은  저는  좋아요\n",
              "0    0   0   0   1    0   1   1   0    0\n",
              "1    0   0   0   1    1   0   1   0    0\n",
              "2    0   1   1   0    2   0   0   0    0\n",
              "3    1   0   0   0    0   0   0   1    1"
            ]
          },
          "metadata": {
            "tags": []
          },
          "execution_count": 35
        }
      ]
    },
    {
      "cell_type": "markdown",
      "metadata": {
        "id": "tMbfPfEQwpwB"
      },
      "source": [
        "각 단어에 대한 IDF 구하기"
      ]
    },
    {
      "cell_type": "code",
      "metadata": {
        "colab": {
          "base_uri": "https://localhost:8080/",
          "height": 328
        },
        "id": "njQBSAxXwt6F",
        "outputId": "366750f7-bf35-4468-ec51-6d214482ca61"
      },
      "source": [
        "result = []\n",
        "for j in range(len(vocab)):\n",
        "    t = vocab[j]\n",
        "    result.append(idf(t))\n",
        "\n",
        "idf_ = pd.DataFrame(result, index = vocab, columns = [\"IDF\"])\n",
        "idf_"
      ],
      "execution_count": 36,
      "outputs": [
        {
          "output_type": "execute_result",
          "data": {
            "text/html": [
              "<div>\n",
              "<style scoped>\n",
              "    .dataframe tbody tr th:only-of-type {\n",
              "        vertical-align: middle;\n",
              "    }\n",
              "\n",
              "    .dataframe tbody tr th {\n",
              "        vertical-align: top;\n",
              "    }\n",
              "\n",
              "    .dataframe thead th {\n",
              "        text-align: right;\n",
              "    }\n",
              "</style>\n",
              "<table border=\"1\" class=\"dataframe\">\n",
              "  <thead>\n",
              "    <tr style=\"text-align: right;\">\n",
              "      <th></th>\n",
              "      <th>IDF</th>\n",
              "    </tr>\n",
              "  </thead>\n",
              "  <tbody>\n",
              "    <tr>\n",
              "      <th>과일이</th>\n",
              "      <td>0.693147</td>\n",
              "    </tr>\n",
              "    <tr>\n",
              "      <th>길고</th>\n",
              "      <td>0.693147</td>\n",
              "    </tr>\n",
              "    <tr>\n",
              "      <th>노란</th>\n",
              "      <td>0.693147</td>\n",
              "    </tr>\n",
              "    <tr>\n",
              "      <th>먹고</th>\n",
              "      <td>0.287682</td>\n",
              "    </tr>\n",
              "    <tr>\n",
              "      <th>바나나</th>\n",
              "      <td>0.287682</td>\n",
              "    </tr>\n",
              "    <tr>\n",
              "      <th>사과</th>\n",
              "      <td>0.693147</td>\n",
              "    </tr>\n",
              "    <tr>\n",
              "      <th>싶은</th>\n",
              "      <td>0.287682</td>\n",
              "    </tr>\n",
              "    <tr>\n",
              "      <th>저는</th>\n",
              "      <td>0.693147</td>\n",
              "    </tr>\n",
              "    <tr>\n",
              "      <th>좋아요</th>\n",
              "      <td>0.693147</td>\n",
              "    </tr>\n",
              "  </tbody>\n",
              "</table>\n",
              "</div>"
            ],
            "text/plain": [
              "          IDF\n",
              "과일이  0.693147\n",
              "길고   0.693147\n",
              "노란   0.693147\n",
              "먹고   0.287682\n",
              "바나나  0.287682\n",
              "사과   0.693147\n",
              "싶은   0.287682\n",
              "저는   0.693147\n",
              "좋아요  0.693147"
            ]
          },
          "metadata": {
            "tags": []
          },
          "execution_count": 36
        }
      ]
    },
    {
      "cell_type": "markdown",
      "metadata": {
        "id": "7oGFFmy2wxR7"
      },
      "source": [
        "TF-IDF 행렬 출력"
      ]
    },
    {
      "cell_type": "code",
      "metadata": {
        "colab": {
          "base_uri": "https://localhost:8080/",
          "height": 173
        },
        "id": "7vWMWYuVwwj7",
        "outputId": "5231d926-8588-40fd-d36c-9f71834b5d75"
      },
      "source": [
        "result = []\n",
        "for i in range(N):\n",
        "    result.append([])\n",
        "    d = docs[i]\n",
        "    for j in range(len(vocab)):\n",
        "        t = vocab[j]\n",
        "\n",
        "        result[-1].append(tfidf(t,d))\n",
        "\n",
        "tfidf_ = pd.DataFrame(result, columns = vocab)\n",
        "tfidf_"
      ],
      "execution_count": 37,
      "outputs": [
        {
          "output_type": "execute_result",
          "data": {
            "text/html": [
              "<div>\n",
              "<style scoped>\n",
              "    .dataframe tbody tr th:only-of-type {\n",
              "        vertical-align: middle;\n",
              "    }\n",
              "\n",
              "    .dataframe tbody tr th {\n",
              "        vertical-align: top;\n",
              "    }\n",
              "\n",
              "    .dataframe thead th {\n",
              "        text-align: right;\n",
              "    }\n",
              "</style>\n",
              "<table border=\"1\" class=\"dataframe\">\n",
              "  <thead>\n",
              "    <tr style=\"text-align: right;\">\n",
              "      <th></th>\n",
              "      <th>과일이</th>\n",
              "      <th>길고</th>\n",
              "      <th>노란</th>\n",
              "      <th>먹고</th>\n",
              "      <th>바나나</th>\n",
              "      <th>사과</th>\n",
              "      <th>싶은</th>\n",
              "      <th>저는</th>\n",
              "      <th>좋아요</th>\n",
              "    </tr>\n",
              "  </thead>\n",
              "  <tbody>\n",
              "    <tr>\n",
              "      <th>0</th>\n",
              "      <td>0.000000</td>\n",
              "      <td>0.000000</td>\n",
              "      <td>0.000000</td>\n",
              "      <td>0.287682</td>\n",
              "      <td>0.000000</td>\n",
              "      <td>0.693147</td>\n",
              "      <td>0.287682</td>\n",
              "      <td>0.000000</td>\n",
              "      <td>0.000000</td>\n",
              "    </tr>\n",
              "    <tr>\n",
              "      <th>1</th>\n",
              "      <td>0.000000</td>\n",
              "      <td>0.000000</td>\n",
              "      <td>0.000000</td>\n",
              "      <td>0.287682</td>\n",
              "      <td>0.287682</td>\n",
              "      <td>0.000000</td>\n",
              "      <td>0.287682</td>\n",
              "      <td>0.000000</td>\n",
              "      <td>0.000000</td>\n",
              "    </tr>\n",
              "    <tr>\n",
              "      <th>2</th>\n",
              "      <td>0.000000</td>\n",
              "      <td>0.693147</td>\n",
              "      <td>0.693147</td>\n",
              "      <td>0.000000</td>\n",
              "      <td>0.575364</td>\n",
              "      <td>0.000000</td>\n",
              "      <td>0.000000</td>\n",
              "      <td>0.000000</td>\n",
              "      <td>0.000000</td>\n",
              "    </tr>\n",
              "    <tr>\n",
              "      <th>3</th>\n",
              "      <td>0.693147</td>\n",
              "      <td>0.000000</td>\n",
              "      <td>0.000000</td>\n",
              "      <td>0.000000</td>\n",
              "      <td>0.000000</td>\n",
              "      <td>0.000000</td>\n",
              "      <td>0.000000</td>\n",
              "      <td>0.693147</td>\n",
              "      <td>0.693147</td>\n",
              "    </tr>\n",
              "  </tbody>\n",
              "</table>\n",
              "</div>"
            ],
            "text/plain": [
              "        과일이        길고        노란  ...        싶은        저는       좋아요\n",
              "0  0.000000  0.000000  0.000000  ...  0.287682  0.000000  0.000000\n",
              "1  0.000000  0.000000  0.000000  ...  0.287682  0.000000  0.000000\n",
              "2  0.000000  0.693147  0.693147  ...  0.000000  0.000000  0.000000\n",
              "3  0.693147  0.000000  0.000000  ...  0.000000  0.693147  0.693147\n",
              "\n",
              "[4 rows x 9 columns]"
            ]
          },
          "metadata": {
            "tags": []
          },
          "execution_count": 37
        }
      ]
    },
    {
      "cell_type": "markdown",
      "metadata": {
        "id": "_RXRq_lcw5Z5"
      },
      "source": [
        "# sklearn CountVectorizer을 이용한 DTM과 TF-IDF 실습"
      ]
    },
    {
      "cell_type": "markdown",
      "metadata": {
        "id": "rmjp3nuRyY-M"
      },
      "source": [
        "- fit을 사용하면 전체 문서에 대해 단어사전을 만듦\n",
        "\n",
        "- transform은 단어사전에 기반해 문서-단어 행렬을 만듦.\n",
        "\n",
        "- 띄어쓰기 기준이므로 한국어 문장은 적용 어려움('물가상승률과', '물가상승률은' 을 다르게 봄)"
      ]
    },
    {
      "cell_type": "code",
      "metadata": {
        "colab": {
          "base_uri": "https://localhost:8080/"
        },
        "id": "Vag_KMz6w36w",
        "outputId": "fb1f8e7f-2a5d-4aa2-aede-70c170b5450d"
      },
      "source": [
        "from sklearn.feature_extraction.text import CountVectorizer\n",
        "corpus = [\n",
        "    'you know I want your love',\n",
        "    'I like you',\n",
        "    'what should I do ',    \n",
        "]\n",
        "vector = CountVectorizer()\n",
        "print(vector.fit_transform(corpus).toarray()) # 코퍼스로부터 각 단어의 빈도 수를 기록한다.\n",
        "print(vector.vocabulary_) # 각 단어의 인덱스가 어떻게 부여되었는지를 보여준다."
      ],
      "execution_count": 4,
      "outputs": [
        {
          "output_type": "stream",
          "text": [
            "[[0 1 0 1 0 1 0 1 1]\n",
            " [0 0 1 0 0 0 0 1 0]\n",
            " [1 0 0 0 1 0 1 0 0]]\n",
            "{'you': 7, 'know': 1, 'want': 5, 'your': 8, 'love': 3, 'like': 2, 'what': 6, 'should': 4, 'do': 0}\n"
          ],
          "name": "stdout"
        }
      ]
    },
    {
      "cell_type": "code",
      "metadata": {
        "colab": {
          "base_uri": "https://localhost:8080/",
          "height": 210
        },
        "id": "UlYbZ2_gzI7u",
        "outputId": "ccc0697e-daaa-4461-909c-c99fc9629d61"
      },
      "source": [
        "from sklearn.feature_extraction.text import CountVectorizer\n",
        "corpus = [\n",
        "    'you know I want your love',\n",
        "    'I like you',\n",
        "    'what should I do ',    \n",
        "]\n",
        "vector = CountVectorizer()\n",
        "vector.fit(corpus)                        #단어사전 생성\n",
        "print(vector.get_feature_names())\n",
        "\n",
        "vector.transform(corpus)                  #문서-단어 행렬(희소행렬)\n",
        "print(vector.transform(corpus).toarray()) #문서-단어 행렬(numpy 배열)\n",
        "\n",
        "pd.DataFrame(vector.transform(corpus).toarray(), columns=vector.get_feature_names())"
      ],
      "execution_count": 18,
      "outputs": [
        {
          "output_type": "stream",
          "text": [
            "['do', 'know', 'like', 'love', 'should', 'want', 'what', 'you', 'your']\n",
            "[[0 1 0 1 0 1 0 1 1]\n",
            " [0 0 1 0 0 0 0 1 0]\n",
            " [1 0 0 0 1 0 1 0 0]]\n"
          ],
          "name": "stdout"
        },
        {
          "output_type": "execute_result",
          "data": {
            "text/html": [
              "<div>\n",
              "<style scoped>\n",
              "    .dataframe tbody tr th:only-of-type {\n",
              "        vertical-align: middle;\n",
              "    }\n",
              "\n",
              "    .dataframe tbody tr th {\n",
              "        vertical-align: top;\n",
              "    }\n",
              "\n",
              "    .dataframe thead th {\n",
              "        text-align: right;\n",
              "    }\n",
              "</style>\n",
              "<table border=\"1\" class=\"dataframe\">\n",
              "  <thead>\n",
              "    <tr style=\"text-align: right;\">\n",
              "      <th></th>\n",
              "      <th>do</th>\n",
              "      <th>know</th>\n",
              "      <th>like</th>\n",
              "      <th>love</th>\n",
              "      <th>should</th>\n",
              "      <th>want</th>\n",
              "      <th>what</th>\n",
              "      <th>you</th>\n",
              "      <th>your</th>\n",
              "    </tr>\n",
              "  </thead>\n",
              "  <tbody>\n",
              "    <tr>\n",
              "      <th>0</th>\n",
              "      <td>0</td>\n",
              "      <td>1</td>\n",
              "      <td>0</td>\n",
              "      <td>1</td>\n",
              "      <td>0</td>\n",
              "      <td>1</td>\n",
              "      <td>0</td>\n",
              "      <td>1</td>\n",
              "      <td>1</td>\n",
              "    </tr>\n",
              "    <tr>\n",
              "      <th>1</th>\n",
              "      <td>0</td>\n",
              "      <td>0</td>\n",
              "      <td>1</td>\n",
              "      <td>0</td>\n",
              "      <td>0</td>\n",
              "      <td>0</td>\n",
              "      <td>0</td>\n",
              "      <td>1</td>\n",
              "      <td>0</td>\n",
              "    </tr>\n",
              "    <tr>\n",
              "      <th>2</th>\n",
              "      <td>1</td>\n",
              "      <td>0</td>\n",
              "      <td>0</td>\n",
              "      <td>0</td>\n",
              "      <td>1</td>\n",
              "      <td>0</td>\n",
              "      <td>1</td>\n",
              "      <td>0</td>\n",
              "      <td>0</td>\n",
              "    </tr>\n",
              "  </tbody>\n",
              "</table>\n",
              "</div>"
            ],
            "text/plain": [
              "   do  know  like  love  should  want  what  you  your\n",
              "0   0     1     0     1       0     1     0    1     1\n",
              "1   0     0     1     0       0     0     0    1     0\n",
              "2   1     0     0     0       1     0     1    0     0"
            ]
          },
          "metadata": {
            "tags": []
          },
          "execution_count": 18
        }
      ]
    },
    {
      "cell_type": "markdown",
      "metadata": {
        "id": "I4Q3mM6axUgc"
      },
      "source": [
        "# sklearn TfidfVectorizer 이용"
      ]
    },
    {
      "cell_type": "markdown",
      "metadata": {
        "id": "AeFOrpqgxeYE"
      },
      "source": [
        "사이킷런은 TF-IDF를 자동 계산해주는 TfidfVectorizer를 제공.\n",
        "\n",
        "- 보편적인 TF-IDF 식에서 좀 더 조정된 다른 식 사용."
      ]
    },
    {
      "cell_type": "code",
      "metadata": {
        "colab": {
          "base_uri": "https://localhost:8080/"
        },
        "id": "KgqsILYdxJho",
        "outputId": "166eed25-75e1-4f37-dc27-11604c60dc2f"
      },
      "source": [
        "from sklearn.feature_extraction.text import TfidfVectorizer\n",
        "corpus = [\n",
        "    'you know I want your love',\n",
        "    'I like you',\n",
        "    'what should I do ',    \n",
        "]\n",
        "tfidfv = TfidfVectorizer().fit(corpus)\n",
        "print(tfidfv.transform(corpus).toarray())\n",
        "print(tfidfv.vocabulary_)"
      ],
      "execution_count": 5,
      "outputs": [
        {
          "output_type": "stream",
          "text": [
            "[[0.         0.46735098 0.         0.46735098 0.         0.46735098\n",
            "  0.         0.35543247 0.46735098]\n",
            " [0.         0.         0.79596054 0.         0.         0.\n",
            "  0.         0.60534851 0.        ]\n",
            " [0.57735027 0.         0.         0.         0.57735027 0.\n",
            "  0.57735027 0.         0.        ]]\n",
            "{'you': 7, 'know': 1, 'want': 5, 'your': 8, 'love': 3, 'like': 2, 'what': 6, 'should': 4, 'do': 0}\n"
          ],
          "name": "stdout"
        }
      ]
    },
    {
      "cell_type": "code",
      "metadata": {
        "id": "-xl9GaHcxbFo"
      },
      "source": [
        ""
      ],
      "execution_count": null,
      "outputs": []
    }
  ]
}